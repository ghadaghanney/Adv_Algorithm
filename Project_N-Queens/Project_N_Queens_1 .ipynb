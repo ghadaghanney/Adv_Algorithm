{
 "cells": [
  {
   "cell_type": "code",
   "execution_count": 4,
   "metadata": {},
   "outputs": [
    {
     "name": "stdout",
     "output_type": "stream",
     "text": [
      "Donner nombre des reines\n",
      "4\n",
      "[1, 'Q', 1, 1]\n",
      "[1, 1, 1, 'Q']\n",
      "['Q', 1, 1, 1]\n",
      "[1, 1, 'Q', 1]\n"
     ]
    }
   ],
   "source": [
    "print (\"Donner nombre des reines\") # Nombre des reines\n",
    "n = int(input())\n",
    "\n",
    "\n",
    "Echiquier = [[0]*n for _ in range(n)] # n x n matrice  = 0\n",
    "\n",
    "def placer_reine(i, j): #Fonction placer_reine\n",
    "    for H in range(0,n): \n",
    "        if Echiquier[i][H]=='Q' or Echiquier[H][j]=='Q':# Retrouver la reines dans colonne ou ligne \n",
    "            return True   # Si oui alors  vrai\n",
    "        Echiquier[i][H]=1 # Mettre 1 dans i et H\n",
    "    \n",
    "    for H in range(0,n): #Vérification des diagonales\n",
    "        for l in range(0,n): \n",
    "            if (H+l==i+j) or (H-l==i-j):#Il ya une reine dans les diagonales ?\n",
    "                if Echiquier[H][l]=='Q': #si oui alors vrai\n",
    "                    return True    \n",
    "    return False\n",
    "\n",
    "\n",
    "    \n",
    "def placer_toutes_reines(N): #Fonction placer_toutes_reines\n",
    "    if N==0: #si n = 0 alors solution = vrai \n",
    "        return True\n",
    "    for i in range(0,n): \n",
    "        for j in range(0,n):\n",
    "            if (not(placer_reine(i,j))) and (Echiquier[i][j]!='Q'):# s'il ya place libre pour placer la reine \n",
    "                Echiquier[i][j] ='Q'\n",
    "                if placer_toutes_reines(N-1)==True:  #Verifier si on peut placer la prochaine reine !!\n",
    "                    return True # si oui alors vrai\n",
    "                Echiquier[i][j] = 0 # Des 0 dans le reste de l'echiquier\n",
    "\n",
    "    return False\n",
    "\n",
    "placer_toutes_reines(n)\n",
    "for i in Echiquier:\n",
    "    print (i)"
   ]
  },
  {
   "cell_type": "code",
   "execution_count": null,
   "metadata": {},
   "outputs": [],
   "source": []
  }
 ],
 "metadata": {
  "kernelspec": {
   "display_name": "Python 3",
   "language": "python",
   "name": "python3"
  },
  "language_info": {
   "codemirror_mode": {
    "name": "ipython",
    "version": 3
   },
   "file_extension": ".py",
   "mimetype": "text/x-python",
   "name": "python",
   "nbconvert_exporter": "python",
   "pygments_lexer": "ipython3",
   "version": "3.8.3"
  }
 },
 "nbformat": 4,
 "nbformat_minor": 4
}
