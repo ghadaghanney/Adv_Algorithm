{
 "cells": [
  {
   "cell_type": "markdown",
   "metadata": {},
   "source": [
    "# Sorting algorithms"
   ]
  },
  {
   "cell_type": "markdown",
   "metadata": {},
   "source": [
    "### 1. Bubble sort"
   ]
  },
  {
   "cell_type": "code",
   "execution_count": 6,
   "metadata": {},
   "outputs": [],
   "source": [
    "def Bubble_sort(tab):\n",
    "    n = len(tab)\n",
    "    # Traverser tous les éléments du tableau\n",
    "    for i in range(n):\n",
    "        for j in range(0, n-i-1):\n",
    "            # échanger si l'élément trouvé est plus grand que le suivant\n",
    "            if tab[j] > tab[j+1] :\n",
    "                tab[j], tab[j+1] = tab[j+1], tab[j]\n"
   ]
  },
  {
   "cell_type": "code",
   "execution_count": 7,
   "metadata": {},
   "outputs": [
    {
     "name": "stdout",
     "output_type": "stream",
     "text": [
      "Le tableau trié est:\n",
      "2\n",
      "15\n",
      "22\n",
      "32\n",
      "63\n",
      "70\n",
      "74\n",
      "98\n"
     ]
    }
   ],
   "source": [
    "# Programme principale pour tester le code\n",
    "tab = [98, 22, 15, 32, 2, 74, 63, 70]\n",
    " \n",
    "Bubble_sort(tab)\n",
    " \n",
    "print (\"Le tableau trié est:\")\n",
    "for i in range(len(tab)):\n",
    "    print (\"%d\" %tab[i])"
   ]
  },
  {
   "cell_type": "markdown",
   "metadata": {},
   "source": [
    "### 2. Selection sort"
   ]
  },
  {
   "cell_type": "code",
   "execution_count": 40,
   "metadata": {},
   "outputs": [],
   "source": [
    "def selection_sort(tab):\n",
    "\n",
    "   for i in range(len(tab)):\n",
    "\n",
    "      # Trouver le min\n",
    "       min = i\n",
    "\n",
    "       for j in range(i+1, len(tab)):\n",
    "           if tab[min] > tab[j]:\n",
    "               min = j\n",
    "                \n",
    "       tmp = tab[i]\n",
    "       tab[i] = tab[min]\n",
    "       tab[min] = tmp\n",
    "\n",
    "   return tab"
   ]
  },
  {
   "cell_type": "code",
   "execution_count": 41,
   "metadata": {},
   "outputs": [
    {
     "name": "stdout",
     "output_type": "stream",
     "text": [
      "Le tableau trié est:\n",
      "2\n",
      "15\n",
      "22\n",
      "32\n",
      "63\n",
      "70\n",
      "74\n",
      "98\n"
     ]
    }
   ],
   "source": [
    "# Programme principale pour tester le code \n",
    "tab = [98, 22, 15, 32, 2, 74, 63, 70]\n",
    " \n",
    "selection_sort(tab)\n",
    " \n",
    "print (\"Le tableau trié est:\")\n",
    "for i in range(len(tab)):\n",
    "    print (\"%d\" %tab[i])"
   ]
  },
  {
   "cell_type": "markdown",
   "metadata": {},
   "source": [
    "### 3. Insertion sort"
   ]
  },
  {
   "cell_type": "code",
   "execution_count": 58,
   "metadata": {},
   "outputs": [],
   "source": [
    "# Programme principale pour tester le code \n",
    "def insertion_sort(tab): \n",
    "    # Parcour de 1 à la taille du tab\n",
    "    for i in range(1, len(tab)): \n",
    "        k = tab[i] \n",
    "        j = i-1\n",
    "        while j >= 0 and k < tab[j] : \n",
    "                tab[j + 1] = tab[j] \n",
    "                j -= 1\n",
    "        tab[j + 1] = k"
   ]
  },
  {
   "cell_type": "code",
   "execution_count": 59,
   "metadata": {},
   "outputs": [
    {
     "name": "stdout",
     "output_type": "stream",
     "text": [
      "Le tableau trié est:\n",
      "2\n",
      "15\n",
      "22\n",
      "32\n",
      "63\n",
      "70\n",
      "74\n",
      "98\n"
     ]
    }
   ],
   "source": [
    "tab = [98, 22, 15, 32, 2, 74, 63, 70]\n",
    "insertion_sort(tab) \n",
    "print (\"Le tableau trié est:\")\n",
    "for i in range(len(tab)):\n",
    "    print (\"%d\" %tab[i])\n"
   ]
  },
  {
   "cell_type": "markdown",
   "metadata": {},
   "source": [
    "### 4. Merge sort"
   ]
  },
  {
   "cell_type": "code",
   "execution_count": 79,
   "metadata": {},
   "outputs": [],
   "source": [
    "def Merge_sort(L1,L2):\n",
    "    \n",
    "    n1 = len(L1)\n",
    "    n2 = len(L2)\n",
    "    mid = [0]*(n1+n2)\n",
    "    \n",
    "    j = 0\n",
    "    i = 0\n",
    "    m = 0\n",
    "    \n",
    "    while j<n1 and i<n2:\n",
    "        if L1[j] < L2[i]:\n",
    "            mid[m] = L1[j]\n",
    "            j += 1\n",
    "        else:\n",
    "            mid[m] = L2[i]\n",
    "            i += 1\n",
    "        m += 1\n",
    "        \n",
    "    while j<n1:\n",
    "        mid[m] = L1[j]\n",
    "        j += 1\n",
    "        m += 1\n",
    "        \n",
    "    while i<n2:\n",
    "        mid[m] = L2[i]\n",
    "        i += 1\n",
    "        m += 1 \n",
    "        \n",
    "    return mid"
   ]
  },
  {
   "cell_type": "code",
   "execution_count": 80,
   "metadata": {},
   "outputs": [
    {
     "name": "stdout",
     "output_type": "stream",
     "text": [
      "[2, 74, 63, 70, 98, 22, 15, 32]\n"
     ]
    }
   ],
   "source": [
    "L = Merge_sort([98, 22, 15, 32], [2, 74, 63, 70])  \n",
    "                \n",
    "print(L)\n"
   ]
  },
  {
   "cell_type": "markdown",
   "metadata": {},
   "source": [
    "### Quick sort"
   ]
  },
  {
   "cell_type": "code",
   "execution_count": 87,
   "metadata": {},
   "outputs": [],
   "source": [
    "def quick_sort(L):\n",
    " \n",
    "    def quick(L, g, d):\n",
    "        pivot = L[(g+d)//2]\n",
    "        i = g\n",
    "        j = d\n",
    "        while True:\n",
    "            while L[i]<pivot:\n",
    "                i+=1\n",
    "            while L[j]>pivot:\n",
    "                j-=1\n",
    "            if i>j:\n",
    "                break\n",
    "            if i<j:\n",
    "                L[i], L[j] = L[j], L[i]\n",
    "            i+=1\n",
    "            j-=1\n",
    "        if g<j:\n",
    "            quick(L,g,j)\n",
    "        if i<d:\n",
    "            quick(L,i,d)\n",
    " \n",
    "    g=0\n",
    "    d=len(L)-1\n",
    "    R=list(L)\n",
    "    quick(R,g,d)\n",
    "    return R"
   ]
  },
  {
   "cell_type": "code",
   "execution_count": 89,
   "metadata": {},
   "outputs": [
    {
     "data": {
      "text/plain": [
       "[2, 15, 22, 32, 63, 70, 74, 98]"
      ]
     },
     "execution_count": 89,
     "metadata": {},
     "output_type": "execute_result"
    }
   ],
   "source": [
    "R=quick_sort(L)\n",
    "R=list(L)\n",
    "quick_sort(R)"
   ]
  },
  {
   "cell_type": "code",
   "execution_count": null,
   "metadata": {},
   "outputs": [],
   "source": []
  }
 ],
 "metadata": {
  "kernelspec": {
   "display_name": "Python 3",
   "language": "python",
   "name": "python3"
  },
  "language_info": {
   "codemirror_mode": {
    "name": "ipython",
    "version": 3
   },
   "file_extension": ".py",
   "mimetype": "text/x-python",
   "name": "python",
   "nbconvert_exporter": "python",
   "pygments_lexer": "ipython3",
   "version": "3.8.3"
  }
 },
 "nbformat": 4,
 "nbformat_minor": 4
}
