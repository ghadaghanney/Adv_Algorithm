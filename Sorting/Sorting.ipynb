{
 "cells": [
  {
   "cell_type": "markdown",
   "metadata": {},
   "source": [
    "## Implémentation des algorithmes de Tri "
   ]
  },
  {
   "cell_type": "markdown",
   "metadata": {},
   "source": [
    "### Bibliothéque"
   ]
  },
  {
   "cell_type": "code",
   "execution_count": 44,
   "metadata": {},
   "outputs": [],
   "source": [
    "from numpy import random as rd\n",
    "import matplotlib.pyplot as plt\n",
    "from datetime import *"
   ]
  },
  {
   "cell_type": "code",
   "execution_count": 32,
   "metadata": {},
   "outputs": [],
   "source": [
    "s = datetime.now() # Temps avant l'execuiton\n",
    "tmp_s = [] # Tab de Temps_CPU pour Tri_selection\n",
    "tmp_b = [] # Tab Temps_CPU pour Tri à bulle\n",
    "tmp_i = [] # Tab Temps_CPU pour Tri insertion\n",
    "tmp_f = [] # Tab Temps_CPU pour Tri Fusion\n",
    "tmp_r = [] # Tab Temps_CPU pour Tri Rapide\n",
    "numb = [] # Tab pour stocker \" N \""
   ]
  },
  {
   "cell_type": "markdown",
   "metadata": {},
   "source": [
    "### Tri_Selection"
   ]
  },
  {
   "cell_type": "code",
   "execution_count": 33,
   "metadata": {},
   "outputs": [],
   "source": [
    "def triSelection(v):\n",
    "    for i in range(len(v)):\n",
    "        ind_min = i\n",
    "        for k in range(i+1,len(v)):\n",
    "            if (v[k] < v[ind_min]):\n",
    "                ind_min = k\n",
    "                aux = v[i]\n",
    "                v[i]= v[ind_min]\n",
    "                v[ind_min]=aux\n",
    "    e = datetime.now()\n",
    "    diff = e-s # difference entre temp de début et temp de fin\n",
    "    sec = diff.total_seconds() # conversion du temp de difference en seconde\n",
    "    tmp_s.append(sec) # ajouter le temps en s au tableau approprié\n"
   ]
  },
  {
   "cell_type": "markdown",
   "metadata": {},
   "source": [
    "### Tri_Bulle"
   ]
  },
  {
   "cell_type": "code",
   "execution_count": 34,
   "metadata": {},
   "outputs": [],
   "source": [
    "def triBulle (v):\n",
    "    permut = True\n",
    "    p = len(a)-1\n",
    "    while (permut):\n",
    "        permut = False\n",
    "        for i in range(0,p):\n",
    "            if (a[i] > a[i+1]):\n",
    "                aux=a[i]\n",
    "                a[i]=a[i+1]\n",
    "                a[i+1]=aux\n",
    "                permut=True\n",
    "        p-=1\n",
    "\n",
    "    e = datetime.now()\n",
    "    diff = e-s\n",
    "    sec = diff.total_seconds()\n",
    "    tmp_b.append(sec)"
   ]
  },
  {
   "cell_type": "markdown",
   "metadata": {},
   "source": [
    "### Tri_Insertion"
   ]
  },
  {
   "cell_type": "code",
   "execution_count": 35,
   "metadata": {},
   "outputs": [],
   "source": [
    "def triInsertion (v):\n",
    "    p=len(v)-1\n",
    "    for i in range(0,p) :\n",
    "        x = v[i+1]\n",
    "        j=i\n",
    "        while((v[j] > x ) and (j>=0) ) :\n",
    "            v[j+1] = v[j]\n",
    "            j-= 1\n",
    "        v[j+1] = x\n",
    "\n",
    "    e = datetime.now()\n",
    "    diff = e-s \n",
    "    sec = diff.total_seconds() \n",
    "    tmp_i.append(sec)"
   ]
  },
  {
   "cell_type": "markdown",
   "metadata": {},
   "source": [
    "### Tri_Fusion"
   ]
  },
  {
   "cell_type": "code",
   "execution_count": 36,
   "metadata": {},
   "outputs": [],
   "source": [
    "def TriFussion(w):\n",
    "    def triFussion(v):\n",
    "\n",
    "        if len(v)>1:\n",
    "            mid = len(v)//2\n",
    "            left = v[:mid]\n",
    "            right = v[mid:]\n",
    "\n",
    "            triFussion(left)\n",
    "            triFussion(right)\n",
    "\n",
    "            i=0\n",
    "            j=0\n",
    "            k=0\n",
    "            while i < len(left) and j < len(right):\n",
    "                if left[i] <= right[j]:\n",
    "                    v[k]=left[i]\n",
    "                    i=i+1\n",
    "                else:\n",
    "                    v[k]=right[j]\n",
    "                    j=j+1\n",
    "                k=k+1\n",
    "\n",
    "            while i < len(left):\n",
    "                v[k]=left[i]\n",
    "                i=i+1\n",
    "                k=k+1\n",
    "            \n",
    "            while j < len(right):\n",
    "                v[k]=right[j]\n",
    "                j=j+1\n",
    "                k=k+1\n",
    "                \n",
    "    e = datetime.now() \n",
    "    diff = e-s \n",
    "    sec = diff.total_seconds() \n",
    "    tmp_f.append(float(sec))"
   ]
  },
  {
   "cell_type": "markdown",
   "metadata": {},
   "source": [
    "### Tri_Rapide"
   ]
  },
  {
   "cell_type": "code",
   "execution_count": 37,
   "metadata": {},
   "outputs": [],
   "source": [
    "def TriRapide(v,fin,debut=0):\n",
    "\n",
    "    def triRapide(v,fin,debut=0):\n",
    "\n",
    "        def division(v, debut, fin):\n",
    "            i = (debut-1)\n",
    "            pivot = v[fin]\n",
    "\n",
    "            for j in range(debut, fin):\n",
    "\n",
    "                if v[j] <= pivot:\n",
    "\n",
    "                    i = i+1\n",
    "                    v[i], v[j] = v[j], v[i]\n",
    "\n",
    "            v[i+1], v[fin] = v[fin], v[i+1]\n",
    "            return (i+1)\n",
    "\n",
    "        if len(v) == 1:\n",
    "            return v\n",
    "        if debut < fin:\n",
    "            pivot = division(v, debut, fin)\n",
    "            triRapide(v, debut, pivot-1)\n",
    "            triRapide(v, pivot+1, fin)\n",
    "\te = datetime.now() \n",
    "\tdiff = e-s \n",
    "\tsec = diff.total_seconds() \n",
    "\ttmp_r.append(float(sec))"
   ]
  },
  {
   "cell_type": "markdown",
   "metadata": {},
   "source": [
    "### Programme principal "
   ]
  },
  {
   "cell_type": "code",
   "execution_count": 38,
   "metadata": {},
   "outputs": [],
   "source": [
    "o=20000\n",
    "p=100000\n",
    "n=50000\n",
    "\n",
    "for i in range(o, p+1, n):\n",
    "    numb.append(i)\n",
    "    a=rd.randint(100, size=(i))\n",
    "\n",
    "    n=len(a)-1\n",
    "    #triSelection(a)\n",
    "    #triBulle (a)\n",
    "    #triInsertion(a)\n",
    "    #TriFussion(a)\n",
    "    TriRapide(a,n) # Tri rapide qui va etre executé "
   ]
  },
  {
   "cell_type": "markdown",
   "metadata": {},
   "source": [
    "### Figure Tri_Selection"
   ]
  },
  {
   "cell_type": "code",
   "execution_count": 39,
   "metadata": {},
   "outputs": [
    {
     "data": {
      "text/plain": [
       "'\\nplt.figure(figsize=(12,10))\\nplt.plot(numb,tmp_s,\"red\")\\nplt.title(\"Tri par Selection\")\\nplt.xlabel(\"N : Nombre des entiers dans le tableau\")\\nplt.ylabel(\"Temps CPU en seconde \")\\nplt.grid()\\nplt.show()\\n'"
      ]
     },
     "execution_count": 39,
     "metadata": {},
     "output_type": "execute_result"
    }
   ],
   "source": [
    "\"\"\"\n",
    "plt.figure(figsize=(12,10))\n",
    "plt.plot(numb,tmp_s,\"blue\")\n",
    "plt.title(\"SELECTION\")\n",
    "plt.xlabel(\"Nombre des entiers dans le tableau\")\n",
    "plt.ylabel(\"Temps CPU en seconde \")\n",
    "plt.grid()\n",
    "plt.show()\n",
    "\"\"\""
   ]
  },
  {
   "cell_type": "markdown",
   "metadata": {},
   "source": [
    "### Figure Tri_Bulle"
   ]
  },
  {
   "cell_type": "code",
   "execution_count": 40,
   "metadata": {},
   "outputs": [
    {
     "data": {
      "text/plain": [
       "'\\nplt.figure(figsize=(12,10))\\nplt.plot(numb,tmp_b,\"blue\")\\nplt.title(\"Tri à Bulle\")\\nplt.xlabel(\"N : Nombre des entiers dans le tableau\")\\nplt.ylabel(\"Temps CPU en seconde \")\\nplt.grid()\\nplt.show()\\n'"
      ]
     },
     "execution_count": 40,
     "metadata": {},
     "output_type": "execute_result"
    }
   ],
   "source": [
    "\n",
    "\"\"\"\n",
    "plt.figure(figsize=(12,10))\n",
    "plt.plot(numb,tmp_b,\"blue\")\n",
    "plt.title(\"BULLE\")\n",
    "plt.xlabel(\"Nombre des entiers dans le tableau\")\n",
    "plt.ylabel(\"Temps CPU en seconde \")\n",
    "plt.grid()\n",
    "plt.show()\n",
    "\"\"\""
   ]
  },
  {
   "cell_type": "markdown",
   "metadata": {},
   "source": [
    "### Figure Tri_Insertion"
   ]
  },
  {
   "cell_type": "code",
   "execution_count": 41,
   "metadata": {},
   "outputs": [
    {
     "data": {
      "text/plain": [
       "'\\nplt.figure(figsize=(12,10))\\nplt.plot(numb,tmp_i,\"green\")\\nplt.title(\"Tri par Insertion\")\\nplt.xlabel(\"N : Nombre des entiers dans le tableau\")\\nplt.ylabel(\"Temps CPU en seconde \")\\nplt.grid()\\nplt.show()\\n'"
      ]
     },
     "execution_count": 41,
     "metadata": {},
     "output_type": "execute_result"
    }
   ],
   "source": [
    "\"\"\"\n",
    "plt.figure(figsize=(12,10))\n",
    "plt.plot(numb,tmp_i,\"blue\")\n",
    "plt.title(\"INSERTION\")\n",
    "plt.xlabel(\"Nombre des entiers dans le tableau\")\n",
    "plt.ylabel(\"Temps CPU en seconde \")\n",
    "plt.grid()\n",
    "plt.show()\n",
    "\"\"\""
   ]
  },
  {
   "cell_type": "markdown",
   "metadata": {},
   "source": [
    "### Figure Tri_Fusion"
   ]
  },
  {
   "cell_type": "code",
   "execution_count": 42,
   "metadata": {},
   "outputs": [
    {
     "data": {
      "text/plain": [
       "'\\nplt.figure(figsize=(12,10))\\nplt.plot(numb,tmp_f,\"cyan\")\\nplt.title(\"Tri par Fusion\")\\nplt.xlabel(\"N : Nombre des entiers dans le tableau\")\\nplt.ylabel(\"Temps CPU en seconde \")\\nplt.grid()\\nplt.show()\\n'"
      ]
     },
     "execution_count": 42,
     "metadata": {},
     "output_type": "execute_result"
    }
   ],
   "source": [
    "\"\"\"\n",
    "plt.figure(figsize=(12,10))\n",
    "plt.plot(numb,tmp_f,\"blue\")\n",
    "plt.title(\"FUSION\")\n",
    "plt.xlabel(\"Nombre des entiers dans le tableau\")\n",
    "plt.ylabel(\"Temps CPU en seconde \")\n",
    "plt.grid()\n",
    "plt.show()\n",
    "\"\"\""
   ]
  },
  {
   "cell_type": "markdown",
   "metadata": {},
   "source": [
    "### Figure Tri_Rapide"
   ]
  },
  {
   "cell_type": "code",
   "execution_count": 43,
   "metadata": {},
   "outputs": [
    {
     "data": {
      "image/png": "[encoded data removed]",
      "text/plain": [
       "<Figure size 864x720 with 1 Axes>"
      ]
     },
     "metadata": {
      "needs_background": "light"
     },
     "output_type": "display_data"
    }
   ],
   "source": [
    "plt.figure(figsize=(12,10))\n",
    "plt.plot(numb,tmp_r,\"blue\")\n",
    "plt.title(\"RAPIDE\")\n",
    "plt.xlabel(\"Nombre des entiers dans le tableau\")\n",
    "plt.ylabel(\"Temps CPU en seconde \")\n",
    "plt.grid()\n",
    "plt.show()"
   ]
  },
  {
   "cell_type": "code",
   "execution_count": null,
   "metadata": {},
   "outputs": [],
   "source": []
  }
 ],
 "metadata": {
  "kernelspec": {
   "display_name": "Python 3",
   "language": "python",
   "name": "python3"
  },
  "language_info": {
   "codemirror_mode": {
    "name": "ipython",
    "version": 3
   },
   "file_extension": ".py",
   "mimetype": "text/x-python",
   "name": "python",
   "nbconvert_exporter": "python",
   "pygments_lexer": "ipython3",
   "version": "3.8.3"
  }
 },
 "nbformat": 4,
 "nbformat_minor": 4
}
